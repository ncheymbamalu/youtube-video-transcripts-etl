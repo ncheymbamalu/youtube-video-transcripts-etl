{
 "cells": [
  {
   "cell_type": "markdown",
   "metadata": {},
   "source": [
    "### **`Dependencies`**"
   ]
  },
  {
   "cell_type": "code",
   "execution_count": 1,
   "metadata": {},
   "outputs": [],
   "source": [
    "%load_ext autoreload\n",
    "%autoreload 2"
   ]
  },
  {
   "cell_type": "code",
   "execution_count": 2,
   "metadata": {},
   "outputs": [],
   "source": [
    "import polars as pl\n",
    "\n",
    "from src.config import Paths"
   ]
  },
  {
   "cell_type": "code",
   "execution_count": 3,
   "metadata": {},
   "outputs": [],
   "source": [
    "# Polars config\n",
    "pl.Config(\n",
    "    tbl_rows=10,\n",
    "    tbl_cols=100,\n",
    "    tbl_width_chars=10_000,\n",
    "    fmt_str_lengths=100,\n",
    "    fmt_table_cell_list_len=20\n",
    ");"
   ]
  },
  {
   "cell_type": "markdown",
   "metadata": {},
   "source": [
    "### **`Data`**"
   ]
  },
  {
   "cell_type": "code",
   "execution_count": 4,
   "metadata": {},
   "outputs": [
    {
     "name": "stdout",
     "output_type": "stream",
     "text": [
      "dvc pull\n",
      "A       data/\n",
      "1 file added\n"
     ]
    }
   ],
   "source": [
    "%%bash\n",
    "cd ..\n",
    "make pull"
   ]
  },
  {
   "cell_type": "code",
   "execution_count": 5,
   "metadata": {},
   "outputs": [
    {
     "name": "stdout",
     "output_type": "stream",
     "text": [
      "shape: (1_483, 4)\n",
      "┌─────────────┬─────────────────────┬───────────────────────────────────────────────────────────────────────────┬───────────────────────────────────────────────────────────────────────────────────────────────────────┐\n",
      "│ video_id    ┆ creation_date       ┆ title                                                                     ┆ transcript                                                                                            │\n",
      "│ ---         ┆ ---                 ┆ ---                                                                       ┆ ---                                                                                                   │\n",
      "│ str         ┆ datetime[μs]        ┆ str                                                                       ┆ str                                                                                                   │\n",
      "╞═════════════╪═════════════════════╪═══════════════════════════════════════════════════════════════════════════╪═══════════════════════════════════════════════════════════════════════════════════════════════════════╡\n",
      "│ N0E2NfAmeMI ┆ 2025-02-26 18:15:07 ┆ AWS or AZURE ?? | Ask ME Anything Session with Abhishek                   ┆ hello everyone hi okay just we just started the live okay somebody was asking is the live started we… │\n",
      "│ yAcWnfsZhzo ┆ 2025-02-26 18:10:11 ┆ Build an LLM from Scratch 1: Set up your code environment                 ┆ yeah hi and welcome everyone to this coding Along video for the build a large language model from sc… │\n",
      "│ gzbFNnTCkqQ ┆ 2025-02-26 15:01:03 ┆ How to estimate the distance to the sun                                   ┆ how could ancient Greeks figure out the distance to the Sun without knowing its size and how could y… │\n",
      "│ Yb6yTdTC7gk ┆ 2025-02-26 09:01:03 ┆ Intro to Data Validation with Pandera - Data Quality Workshop             ┆ all right I think we're live let me just double check one second I don't think I see this on LinkedI… │\n",
      "│ vRXE4FVOt7M ┆ 2025-02-25 15:30:28 ┆ The Stone-Weierstrass Theorem - How to approximate functions              ┆ hello I'm Louis Sano and this is Serrano Academy and in this video we're going to learn about the st… │\n",
      "│ …           ┆ …                   ┆ …                                                                         ┆ …                                                                                                     │\n",
      "│ g-Hb26agBFg ┆ 2019-02-10 06:08:37 ┆ Principal Component Analysis (PCA)                                        ┆ hello i'm luis serrano and in this video we're gonna learn principle component analysis or PCA princ… │\n",
      "│ QXOkPvFM6NU ┆ 2019-01-28 06:20:05 ┆ Clustering: K-means and Hierarchical                                      ┆ hello i'm luis serrano and this video is about flustering we're gonna learn two very important algor… │\n",
      "│ Lpr__X8zuE8 ┆ 2019-01-27 14:19:19 ┆ Support Vector Machines (SVMs): A friendly introduction                   ┆ hello my name is luis serrano and this is a friendly introduction to support vector machines or SVM … │\n",
      "│ jbluHIgBmBo ┆ 2019-01-01 20:08:19 ┆ Logistic Regression and the Perceptron Algorithm: A friendly introduction ┆ hi I'm Louis serrano and this is a friendly introduction to logistic regression and the perceptron a… │\n",
      "│ wYPUhge9w5c ┆ 2018-12-23 01:38:06 ┆ Linear Regression: A friendly introduction                                ┆ hi I'm Louis Serrano and this is a friendly introduction to linear regression this is the first vide… │\n",
      "└─────────────┴─────────────────────┴───────────────────────────────────────────────────────────────────────────┴───────────────────────────────────────────────────────────────────────────────────────────────────────┘\n"
     ]
    }
   ],
   "source": [
    "print(pl.read_parquet(Paths.PROCESSED_DATA))"
   ]
  },
  {
   "cell_type": "code",
   "execution_count": 6,
   "metadata": {},
   "outputs": [],
   "source": [
    "%%bash\n",
    "cd ..\n",
    "rm -rf data"
   ]
  }
 ],
 "metadata": {
  "kernelspec": {
   "display_name": ".venv",
   "language": "python",
   "name": "python3"
  },
  "language_info": {
   "codemirror_mode": {
    "name": "ipython",
    "version": 3
   },
   "file_extension": ".py",
   "mimetype": "text/x-python",
   "name": "python",
   "nbconvert_exporter": "python",
   "pygments_lexer": "ipython3",
   "version": "3.10.14"
  }
 },
 "nbformat": 4,
 "nbformat_minor": 2
}
